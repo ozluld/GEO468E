{
 "cells": [
  {
   "cell_type": "code",
   "execution_count": null,
   "metadata": {},
   "outputs": [],
   "source": [
    "#importing required libraries\n",
    "import rasterio\n",
    "from rasterio import plot\n",
    "import matplotlib.pyplot as plt\n",
    "import numpy as np\n",
    "%matplotlib inline"
   ]
  },
  {
   "cell_type": "code",
   "execution_count": null,
   "metadata": {},
   "outputs": [],
   "source": [
    "#opennig the study area images\n",
    "band4=rasterio.open(\"Test Images/nir.tif\")\n",
    "band5=rasterio.open(\"Test Images/swir.tif\")"
   ]
  },
  {
   "cell_type": "code",
   "execution_count": null,
   "metadata": {},
   "outputs": [],
   "source": [
    "#multiple band representation\n",
    "fig, (ax1, ax2) = plt.subplots(1, 2, figsize=(12, 6))\n",
    "plot.show(band4, ax=ax1, cmap='gray') #nir\n",
    "plot.show(band5, ax=ax2, cmap='gray') #swir\n",
    "fig.tight_layout()"
   ]
  },
  {
   "cell_type": "code",
   "execution_count": null,
   "metadata": {},
   "outputs": [],
   "source": [
    "#generating nir and swir objects as arrays in float64 format\n",
    "nir=band4.read(1).astype('float64')\n",
    "swir=band5.read(1).astype('float64')"
   ]
  },
  {
   "cell_type": "code",
   "execution_count": null,
   "metadata": {},
   "outputs": [],
   "source": [
    "#Normalized Burn Ratio calculation(empty cells or nodata cells are reported as 0)\n",
    "nbr=np.where(\n",
    "    (nir+swir)==0., \n",
    "    0, \n",
    "    (nir-swir)/(nir+swir))"
   ]
  },
  {
   "cell_type": "code",
   "execution_count": null,
   "metadata": {},
   "outputs": [],
   "source": [
    "#exporting the NBR image\n",
    "nbr_image = rasterio.open('Outputs/nbr_image.tiff','w',driver='Gtiff',\n",
    "                          width=band4.width, \n",
    "                          height = band4.height, \n",
    "                          count=1, crs=band4.crs, \n",
    "                          transform=band4.transform, \n",
    "                          dtype='float64')\n",
    "nbr_image.write(nbr,1)\n",
    "nbr_image.close()"
   ]
  },
  {
   "cell_type": "code",
   "execution_count": null,
   "metadata": {},
   "outputs": [],
   "source": [
    "#plotting the NBR image\n",
    "nbrimg = rasterio.open('Outputs/nbr_image.tiff')\n",
    "fig = plt.figure(figsize=(12,6))\n",
    "plot.show(nbrimg, cmap='gray')"
   ]
  },
  {
   "cell_type": "code",
   "execution_count": null,
   "metadata": {},
   "outputs": [],
   "source": [
    "#raster sytem of reference\n",
    "nbrimg.crs"
   ]
  },
  {
   "cell_type": "code",
   "execution_count": null,
   "metadata": {},
   "outputs": [],
   "source": [
    "#raster transform parameters\n",
    "nbrimg.transform"
   ]
  },
  {
   "cell_type": "code",
   "execution_count": null,
   "metadata": {},
   "outputs": [],
   "source": [
    "#type of raster byte\n",
    "nbrimg.dtypes[0]"
   ]
  },
  {
   "cell_type": "code",
   "execution_count": null,
   "metadata": {},
   "outputs": [],
   "source": [
    "#number of raster rows\n",
    "nbrimg.height"
   ]
  },
  {
   "cell_type": "code",
   "execution_count": null,
   "metadata": {},
   "outputs": [],
   "source": [
    "#number of raster columns\n",
    "nbrimg.width"
   ]
  },
  {
   "cell_type": "code",
   "execution_count": null,
   "metadata": {},
   "outputs": [],
   "source": [
    "#importing skimage library in order to show the histogram of NBR image\n",
    "from skimage import io, exposure\n",
    "import skimage.io"
   ]
  },
  {
   "cell_type": "code",
   "execution_count": null,
   "metadata": {},
   "outputs": [],
   "source": [
    "#defining a function in order to show the histogram of NBR image\n",
    "def image_histogram(nbrimg):\n",
    "    \"\"\"\n",
    "    Plot image histogram\n",
    "    Input:\n",
    "    img - 2D array of uint16 type\n",
    "    \"\"\"\n",
    "    co, ce = exposure.histogram(nbr)\n",
    "    \n",
    "    fig = plt.figure(figsize=(10, 7))\n",
    "    fig.set_facecolor('white')\n",
    "    plt.plot(ce[1::], co[1::])\n",
    "    plt.show()"
   ]
  },
  {
   "cell_type": "code",
   "execution_count": null,
   "metadata": {},
   "outputs": [],
   "source": [
    "image_histogram(nbrimg)"
   ]
  },
  {
   "cell_type": "code",
   "execution_count": null,
   "metadata": {},
   "outputs": [],
   "source": []
  }
 ],
 "metadata": {
  "kernelspec": {
   "display_name": "Python 3",
   "language": "python",
   "name": "python3"
  },
  "language_info": {
   "codemirror_mode": {
    "name": "ipython",
    "version": 3
   },
   "file_extension": ".py",
   "mimetype": "text/x-python",
   "name": "python",
   "nbconvert_exporter": "python",
   "pygments_lexer": "ipython3",
   "version": "3.6.12"
  }
 },
 "nbformat": 4,
 "nbformat_minor": 4
}
