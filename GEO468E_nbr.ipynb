{
 "cells": [
  {
   "cell_type": "code",
   "execution_count": null,
   "metadata": {},
   "outputs": [],
   "source": [
    "#import required libraries\n",
    "import rasterio\n",
    "from rasterio import plot\n",
    "import matplotlib.pyplot as plt\n",
    "import numpy as np\n",
    "%matplotlib inline"
   ]
  },
  {
   "cell_type": "code",
   "execution_count": null,
   "metadata": {},
   "outputs": [],
   "source": [
    "#opennig the study area images\n",
    "band4=rasterio.open(\"Test Images/nir.tif\")\n",
    "band5=rasterio.open(\"Test Images/swir.tif\")"
   ]
  },
  {
   "cell_type": "code",
   "execution_count": null,
   "metadata": {},
   "outputs": [],
   "source": [
    "#multiple band representation\n",
    "fig, (ax1, ax2) = plt.subplots(1, 2, figsize=(12, 6))\n",
    "plot.show(band4, ax=ax1, cmap='gray') #nir\n",
    "plot.show(band5, ax=ax2, cmap='gray') #swir\n",
    "fig.tight_layout()"
   ]
  },
  {
   "cell_type": "code",
   "execution_count": null,
   "metadata": {},
   "outputs": [],
   "source": [
    "#generate nir and swir objects as arrays in float64 format\n",
    "nir=band4.read(1).astype('float64')\n",
    "swir=band5.read(1).astype('float64')"
   ]
  },
  {
   "cell_type": "code",
   "execution_count": null,
   "metadata": {},
   "outputs": [],
   "source": [
    "#nbr calculation, empty cells or nodata cells are reported as 0\n",
    "nbr=np.where(\n",
    "    (nir+swir)==0., \n",
    "    0, \n",
    "    (nir-swir)/(nir+swir))"
   ]
  },
  {
   "cell_type": "code",
   "execution_count": null,
   "metadata": {},
   "outputs": [],
   "source": [
    "#exporting the NBR image\n",
    "nbr_image = rasterio.open('Outputs/nbr_image.tiff','w',driver='Gtiff',\n",
    "                          width=band4.width, \n",
    "                          height = band4.height, \n",
    "                          count=1, crs=band4.crs, \n",
    "                          transform=band4.transform, \n",
    "                          dtype='float64')\n",
    "nbr_image.write(nbr,1)\n",
    "nbr_image.close()"
   ]
  },
  {
   "cell_type": "code",
   "execution_count": null,
   "metadata": {},
   "outputs": [],
   "source": [
    "#plotting the NBR image\n",
    "nbrimg = rasterio.open('Outputs/nbr_image.tiff')\n",
    "fig = plt.figure(figsize=(18,12))\n",
    "plot.show(nbrimg, cmap='gray')"
   ]
  }
 ],
 "metadata": {
  "kernelspec": {
   "display_name": "Python 3",
   "language": "python",
   "name": "python3"
  },
  "language_info": {
   "codemirror_mode": {
    "name": "ipython",
    "version": 3
   },
   "file_extension": ".py",
   "mimetype": "text/x-python",
   "name": "python",
   "nbconvert_exporter": "python",
   "pygments_lexer": "ipython3",
   "version": "3.6.12"
  }
 },
 "nbformat": 4,
 "nbformat_minor": 4
}
